{
 "cells": [
  {
   "cell_type": "code",
   "execution_count": 1,
   "id": "c9c888f4",
   "metadata": {},
   "outputs": [],
   "source": [
    "from transformers import PegasusForConditionalGeneration, PegasusTokenizer"
   ]
  },
  {
   "cell_type": "code",
   "execution_count": 2,
   "id": "0b003e20",
   "metadata": {
    "scrolled": true
   },
   "outputs": [],
   "source": [
    "tokenizer = PegasusTokenizer.from_pretrained(\"google/pegasus-xsum\")"
   ]
  },
  {
   "cell_type": "code",
   "execution_count": 3,
   "id": "de504145",
   "metadata": {},
   "outputs": [],
   "source": [
    "model = PegasusForConditionalGeneration.from_pretrained(\"google/pegasus-xsum\")"
   ]
  },
  {
   "cell_type": "code",
   "execution_count": null,
   "id": "5768c318",
   "metadata": {},
   "outputs": [],
   "source": [
    "text = \"\"\"\n",
    "Pegasus (Greek: Πήγασος, Pḗgasos; Latin: Pegasus, Pegasos) is a mythical winged divine horse, and one of the most recognized creatures in Greek mythology. Usually he is depicted as pure white. Myths about him vary as the Greek myths evolve and reflect progression through successive generations of deities.\n",
    "\n",
    "In Archaic Greek mythology, Pegasus is the offspring of the Gorgon Medusa,[1] when she was depicted as a mare. In later myths, Pegasus was foaled by Medusa as she was dying, while being decapitated by the hero Perseus.\n",
    "\n",
    "In Classical Greek mythology, the Olympian god Poseidon is identified as the father of Pegasus. Pegasus is the brother of Chrysaor and the uncle of Geryon. Pegasus was caught by the Greek hero Bellerophon near the fountain Peirene with the help of Athena and Poseidon. Pegasus allowed Bellerophon to ride him in order to defeat the monstrous Chimera, which led to many other exploits. Bellerophon later fell from the winged horse's back while trying to reach Mount Olympus, where the deities resided. After that failed attempt, Zeus transformed Pegasus into the eponymous constellation.\"\"\""
   ]
  },
  {
   "cell_type": "code",
   "execution_count": null,
   "id": "a0b6f037",
   "metadata": {},
   "outputs": [],
   "source": [
    "tokens = tokenizer(text, truncation=True, padding=\"longest\", return_tensors=\"pt\")"
   ]
  },
  {
   "cell_type": "code",
   "execution_count": null,
   "id": "5f24624c",
   "metadata": {
    "scrolled": true
   },
   "outputs": [],
   "source": [
    "tokens"
   ]
  },
  {
   "cell_type": "code",
   "execution_count": null,
   "id": "3e4b59e7",
   "metadata": {},
   "outputs": [],
   "source": [
    "summary = model.generate(**tokens)"
   ]
  },
  {
   "cell_type": "code",
   "execution_count": null,
   "id": "8aed8d8c",
   "metadata": {
    "scrolled": false
   },
   "outputs": [],
   "source": [
    "summary[0]"
   ]
  },
  {
   "cell_type": "code",
   "execution_count": 9,
   "id": "30232b70",
   "metadata": {},
   "outputs": [
    {
     "data": {
      "text/plain": [
       "'Pegasus (Greek:  ⁇, P ⁇ gasos; Latin: Pegasus, Pegasos) is a mythical winged divine horse, and one of the most recognized creatures in Greek mythology.'"
      ]
     },
     "execution_count": 9,
     "metadata": {},
     "output_type": "execute_result"
    }
   ],
   "source": [
    "tokenizer.decode(summary[0])"
   ]
  },
  {
   "cell_type": "code",
   "execution_count": 4,
   "id": "7dfbbf6c",
   "metadata": {},
   "outputs": [],
   "source": [
    "from transformers import AutoModelForQuestionAnswering, AutoTokenizer, pipeline\n"
   ]
  },
  {
   "cell_type": "code",
   "execution_count": 5,
   "id": "a2b6e83e",
   "metadata": {},
   "outputs": [],
   "source": [
    "nlp = pipeline('question-answering', model='deepset/roberta-base-squad2', tokenizer='deepset/roberta-base-squad2')"
   ]
  },
  {
   "cell_type": "code",
   "execution_count": null,
   "id": "2170162b",
   "metadata": {},
   "outputs": [],
   "source": [
    "wikipedia_text = \"\"\"\n",
    "Spider-Man is a superhero appearing in American comic books published by Marvel Comics. Created by writer-editor Stan Lee and artist Steve Ditko, he first appeared in the anthology comic book Amazing Fantasy #15 (August 1962) in the Silver Age of Comic Books. He has since been featured in movies, television shows, video games, and plays. Spider-Man is the alias of Peter Parker, an orphan raised by his Aunt May and Uncle Ben in New York City after his parents Richard and Mary Parker died in a plane crash. Lee and Ditko had the character deal with the struggles of adolescence and financial issues and gave him many supporting characters, such as Flash Thompson, J. Jonah Jameson and Harry Osborn, romantic interests Gwen Stacy, Mary Jane Watson and the Black Cat, and foes such as Doctor Octopus, the Green Goblin and Venom. In his origin story, he gets spider-related abilities from a bite from a radioactive spider; these include clinging to surfaces, superhuman strength and agility, and detecting danger with his \"spider-sense.\" He also builds wrist-mounted \"web-shooter\" devices that shoot artificial spider webs of his own design.\n",
    "\n",
    "When Spider-Man first appeared in the early 1960s, teenagers in superhero comic books were usually relegated to the role of sidekick to the protagonist. The Spider-Man series broke ground by featuring Peter Parker, a high school student from Queens behind Spider-Man's secret identity and with whose \"self-obsessions with rejection, inadequacy, and loneliness\" young readers could relate.[9] While Spider-Man had all the makings of a sidekick, unlike previous teen heroes such as Bucky and Robin, Spider-Man had no superhero mentor like Captain America and Batman; he thus had to learn for himself that \"with great power there must also come great responsibility\"—a line included in a text box in the final panel of the first Spider-Man story but later retroactively attributed to his guardian, his late Uncle Ben Parker.\n",
    "\"\"\""
   ]
  },
  {
   "cell_type": "code",
   "execution_count": null,
   "id": "6355f7b8",
   "metadata": {},
   "outputs": [],
   "source": [
    "question_set = {\n",
    "                'question':'Who is spiderman?', \n",
    "                'context':wikipedia_text\n",
    "               }"
   ]
  },
  {
   "cell_type": "code",
   "execution_count": null,
   "id": "3e6be13f",
   "metadata": {},
   "outputs": [],
   "source": [
    "results = nlp(question_set)"
   ]
  },
  {
   "cell_type": "code",
   "execution_count": null,
   "id": "00ad4d7e",
   "metadata": {},
   "outputs": [],
   "source": [
    "results['answer']"
   ]
  },
  {
   "cell_type": "code",
   "execution_count": null,
   "id": "68b42c4c",
   "metadata": {},
   "outputs": [],
   "source": [
    "!pip install anvil-uplink"
   ]
  },
  {
   "cell_type": "code",
   "execution_count": 6,
   "id": "feccb175",
   "metadata": {},
   "outputs": [],
   "source": [
    "import anvil.server"
   ]
  },
  {
   "cell_type": "code",
   "execution_count": 7,
   "id": "f372aea8",
   "metadata": {},
   "outputs": [
    {
     "name": "stdout",
     "output_type": "stream",
     "text": [
      "Connecting to wss://anvil.works/uplink\n",
      "Anvil websocket open\n",
      "Connected to \"Default environment\" as SERVER\n"
     ]
    }
   ],
   "source": [
    "anvil.server.connect('6BKT3RT7HFOWYDWQ2BECC6SW-CG56IM4EVVUEUDPV')"
   ]
  },
  {
   "cell_type": "code",
   "execution_count": 8,
   "id": "7fbf3e60",
   "metadata": {},
   "outputs": [],
   "source": [
    "\n",
    "@anvil.server.callable\n",
    "\n",
    "def answer_questions(question_text, context_text): \n",
    "    try:\n",
    "        question_set = {\n",
    "                'question':question_text, \n",
    "                'context':context_text\n",
    "               }\n",
    "        results = nlp(question_set)\n",
    "    except:\n",
    "        return \"ask from text\"\n",
    "    \n",
    "    return results['answer']"
   ]
  },
  {
   "cell_type": "code",
   "execution_count": 9,
   "id": "428e59b8",
   "metadata": {},
   "outputs": [
    {
     "ename": "NameError",
     "evalue": "name 'wikipedia_text' is not defined",
     "output_type": "error",
     "traceback": [
      "\u001b[1;31m---------------------------------------------------------------------------\u001b[0m",
      "\u001b[1;31mNameError\u001b[0m                                 Traceback (most recent call last)",
      "\u001b[1;32m~\\AppData\\Local\\Temp/ipykernel_10888/1415528397.py\u001b[0m in \u001b[0;36m<module>\u001b[1;34m\u001b[0m\n\u001b[1;32m----> 1\u001b[1;33m \u001b[0manvil_result\u001b[0m\u001b[1;33m=\u001b[0m\u001b[0manswer_questions\u001b[0m\u001b[1;33m(\u001b[0m\u001b[1;34m'Who is spiderman?'\u001b[0m\u001b[1;33m,\u001b[0m\u001b[0mwikipedia_text\u001b[0m \u001b[1;33m)\u001b[0m\u001b[1;33m\u001b[0m\u001b[1;33m\u001b[0m\u001b[0m\n\u001b[0m",
      "\u001b[1;31mNameError\u001b[0m: name 'wikipedia_text' is not defined"
     ]
    }
   ],
   "source": [
    "anvil_result=answer_questions('Who is spiderman?',wikipedia_text )"
   ]
  },
  {
   "cell_type": "code",
   "execution_count": null,
   "id": "027f7b02",
   "metadata": {},
   "outputs": [],
   "source": [
    "anvil_result\n"
   ]
  },
  {
   "cell_type": "code",
   "execution_count": 10,
   "id": "8a2c3012",
   "metadata": {},
   "outputs": [],
   "source": [
    "import wikipedia\n"
   ]
  },
  {
   "cell_type": "code",
   "execution_count": 11,
   "id": "17d90286",
   "metadata": {},
   "outputs": [],
   "source": [
    "@anvil.server.callable\n",
    "\n",
    "def wik(query):\n",
    "    try:\n",
    "        result=wikipedia.page(query).content\n",
    "    except:\n",
    "        result='try once more'\n",
    "        \n",
    "    \n",
    "    return result"
   ]
  },
  {
   "cell_type": "code",
   "execution_count": 12,
   "id": "1813c548",
   "metadata": {},
   "outputs": [
    {
     "name": "stderr",
     "output_type": "stream",
     "text": [
      "C:\\Users\\ADMIN\\anaconda3\\lib\\site-packages\\numpy\\core\\_asarray.py:102: VisibleDeprecationWarning: Creating an ndarray from ragged nested sequences (which is a list-or-tuple of lists-or-tuples-or ndarrays with different lengths or shapes) is deprecated. If you meant to do this, you must specify 'dtype=object' when creating the ndarray.\n",
      "  return array(a, dtype, copy=False, order=order)\n"
     ]
    }
   ],
   "source": [
    "@anvil.server.callable\n",
    "\n",
    "def summi(text):\n",
    "    tokens = tokenizer(text, truncation=True, padding=\"longest\", return_tensors=\"pt\")\n",
    "    summary = model.generate(**tokens)\n",
    "    result=tokenizer.decode(summary[0])\n",
    "    \n",
    "    return result"
   ]
  },
  {
   "cell_type": "code",
   "execution_count": null,
   "id": "3ef9bc9c",
   "metadata": {
    "scrolled": true
   },
   "outputs": [],
   "source": [
    "summi(text)"
   ]
  },
  {
   "cell_type": "code",
   "execution_count": null,
   "id": "3f65a689",
   "metadata": {},
   "outputs": [],
   "source": []
  },
  {
   "cell_type": "code",
   "execution_count": null,
   "id": "a320c7d6",
   "metadata": {},
   "outputs": [],
   "source": []
  },
  {
   "cell_type": "code",
   "execution_count": null,
   "id": "29765622",
   "metadata": {},
   "outputs": [],
   "source": []
  }
 ],
 "metadata": {
  "kernelspec": {
   "display_name": "Python 3 (ipykernel)",
   "language": "python",
   "name": "python3"
  },
  "language_info": {
   "codemirror_mode": {
    "name": "ipython",
    "version": 3
   },
   "file_extension": ".py",
   "mimetype": "text/x-python",
   "name": "python",
   "nbconvert_exporter": "python",
   "pygments_lexer": "ipython3",
   "version": "3.9.7"
  }
 },
 "nbformat": 4,
 "nbformat_minor": 5
}
